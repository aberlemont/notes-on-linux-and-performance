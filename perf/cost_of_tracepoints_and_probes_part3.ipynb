{
 "cells": [
  {
   "cell_type": "markdown",
   "metadata": {
    "ein.tags": [
     "worksheet-0"
    ]
   },
   "source": [
    "# Introduction\n",
    "\n",
    "In the first part, we used dd and syscall-related tracepoints and\n",
    "probes so as to find out the average costs of tracepoints and probes\n",
    "on our test platform (Intel x86_64 IvyBridge core i7-3537U):\n",
    "\n",
    "* About 350ns for a static tracepoint;\n",
    "* About 400ns for a dynamic probe.\n",
    "\n",
    "In the second part, we tried to find out whether the costs of\n",
    "tracepoints or probes varies a lot around the average values measured\n",
    "above:\n",
    "\n",
    "* 1% of the samples were beyond the double of the average value;\n",
    "* Most of the preemption cases were not taken into account (the\n",
    "  unhandled preemption cases: SMI interrupts, etc.)\n",
    "\n",
    "In this third part, we will briefly try to decompose the costs. Which\n",
    "part is the most expensive ? The tracepoint code ? Or its\n",
    "serialization into the ring-buffers ?  etc."
   ]
  },
  {
   "cell_type": "markdown",
   "metadata": {
    "ein.tags": [
     "worksheet-0"
    ]
   },
   "source": [
    "# Description of the test environments\n",
    "\n",
    "The profiling tests will be executed in the same environment as\n",
    "before:\n",
    "\n",
    "*Basic laptop machine*\n",
    "\n",
    "* CPU: Intel Core i7-3537U @ 2.00GHz (up to 3.10GHz) 1 CPU / 2 cores\n",
    "  per CPU / 2 threads per core;\n",
    "* RAM: 8GB;\n",
    "* System: Arch (glibc-2.23)\n",
    "* Cpufreq governor: performance: the pstate power scaling driver is\n",
    "  used; so the CPU frequency cannot be statically set with a\n",
    "  user-space tool.\n",
    "```\n",
    "# cpupower frequency-set -g performance\n",
    "```\n",
    "\n",
    "The second set of tests (with a slightly modified kernel) will we be\n",
    "executed on a virtualized environment:\n",
    "\n",
    "*Qemu/KVM guest machine*\n",
    "\n",
    "* Host machine: the \"basic laptop machine\";\n",
    "* CPU: 2 emulated/virtualized cores\n",
    "* RAM: 3GB\n",
    "* System: generated with buildroot (glibc-2.22, busybox-1.24.1 and\n",
    "  integrated as an initramfs into the kernel );\n",
    "* Command line:\n",
    "```\n",
    "qemu-system-x86_64 \\\n",
    "    -enable-kvm -cpu host -smp cores=2 \\\n",
    "    -m 3G \\\n",
    "    -nographic -append \"console=ttyS0,9600n8\" \\\n",
    "    -kernel bzImage \n",
    "```"
   ]
  },
  {
   "cell_type": "markdown",
   "metadata": {
    "ein.tags": [
     "worksheet-0"
    ]
   },
   "source": [
    "# Step 1: profiling tracepoint/probe-related code\n",
    "\n",
    "The idea here is very simple: let's launch the commands below and\n",
    "profile its execution:\n",
    "\n",
    "*Static tracepoints command*:\n",
    "```\n",
    "perf record \\\n",
    "    -e raw_syscalls:sys_enter \\\n",
    "    -- bash -c \"time dd if=/dev/zero of=/dev/null bs=1 count=10000000\"\n",
    "```\n",
    "\n",
    "*Dynamic probes command*:\n",
    "```\n",
    "perf record \\\n",
    "    -e probe:sys_read -e probe:sys_write \\\n",
    "    -- bash -c \"time dd if=/dev/zero of=/dev/null bs=1 count=10000000\"\n",
    "```\n",
    "\n",
    "Here are the commands which records the profiling-related samples:\n",
    "```\n",
    "perf record \\\n",
    "    -o profiling_raw_syscalls_sys_enter.data \\\n",
    "    -a --call-graph dwarf,4096 \\\n",
    "    -- sleep 10\n",
    "\n",
    "# perf record \\\n",
    "    -o profiling_kprobe_syscalls_read_write.data \\\n",
    "    -a --call-graph dwarf,4096 \\\n",
    "    -- sleep 10\n",
    "```"
   ]
  },
  {
   "cell_type": "markdown",
   "metadata": {
    "ein.tags": [
     "worksheet-0"
    ]
   },
   "source": [
    "## Results\n",
    "\n",
    "And here are some partial results:"
   ]
  },
  {
   "cell_type": "markdown",
   "metadata": {
    "ein.tags": [
     "worksheet-0"
    ]
   },
   "source": [
    "*Static tracepoints profiling results*:\n",
    "```\n",
    "# perf report -i profiling_raw_syscalls_sys_enter.data --stdio\n",
    "...\n",
    "47.20%     0.49%  dd               [kernel.vmlinux]             [k] tracesys_phase2\n",
    "|\n",
    "---tracesys_phase2\n",
    "|\n",
    "|--37.96%--syscall_trace_enter_phase2\n",
    "|          |\n",
    "|          |--36.92%--perf_trace_sys_enter\n",
    "|          |          |\n",
    "|          |          |--31.57%--perf_tp_event\n",
    "|          |          |          |\n",
    "|          |          |          |--30.37%--perf_swevent_event\n",
    "|          |          |          |          |\n",
    "|          |          |          |          |--30.09%--perf_swevent_overflow\n",
    "|          |          |          |          |          |\n",
    "|          |          |          |          |          |--29.56%--__perf_event_overflow\n",
    "|          |          |          |          |          |          |\n",
    "|          |          |          |          |          |          |--28.40%--perf_event_output\n",
    "|          |          |          |          |          |          |          |\n",
    "|          |          |          |          |          |          |          |--15.65%--perf_output_sample\n",
    "|          |          |          |          |          |          |          |          |\n",
    "|          |          |          |          |          |          |          |          |--8.82%--memcpy_erms\n",
    "...\n",
    "```"
   ]
  },
  {
   "cell_type": "markdown",
   "metadata": {
    "ein.tags": [
     "worksheet-0"
    ]
   },
   "source": [
    "*Dynamic probe profiling results*:\n",
    "```\n",
    "# perf report -i profiling_kprobe_syscalls_read_write.data --stdio\n",
    "...\n",
    "50.90%     1.73%  dd               [kernel.vmlinux]             [k] entry_SYSCALL_64_fastpath\n",
    "|\n",
    "---entry_SYSCALL_64_fastpath\n",
    "|\n",
    "|--25.31%--sys_read\n",
    "|          |\n",
    "|          |--19.75%--0x6145\n",
    "|          |          |\n",
    "|          |          |--19.66%--ftrace_ops_recurs_func\n",
    "|          |          |          |\n",
    "|          |          |          |--19.14%--kprobe_ftrace_handler\n",
    "|          |          |          |          |\n",
    "|          |          |          |          |--18.11%--kprobe_dispatcher\n",
    "|          |          |          |          |          |\n",
    "|          |          |          |          |          |--16.96%--kprobe_perf_func\n",
    "|          |          |          |          |          |          |\n",
    "|          |          |          |          |          |          |--15.18%--perf_tp_event\n",
    "|          |          |          |          |          |          |          |\n",
    "|          |          |          |          |          |          |          |--14.56%--perf_swevent_event\n",
    "|          |          |          |          |          |          |          |          |\n",
    "|          |          |          |          |          |          |          |          |--14.44%--perf_swevent_overflow\n",
    "|          |          |          |          |          |          |          |          |          |\n",
    "|          |          |          |          |          |          |          |          |          |--14.19%--__perf_event_overflow\n",
    "|          |          |          |          |          |          |          |          |          |          |\n",
    "|          |          |          |          |          |          |          |          |          |          |--13.64%--perf_event_output\n",
    "|          |          |          |          |          |          |          |          |          |          |          |\n",
    "|          |          |          |          |          |          |          |          |          |          |          |--7.36%--perf_output_sample\n",
    "|          |          |          |          |          |          |          |          |          |          |          |          |\n",
    "|          |          |          |          |          |          |          |          |          |          |          |          |--4.23%--memcpy_erms\n",
    "...\n",
    "```"
   ]
  },
  {
   "cell_type": "markdown",
   "metadata": {
    "ein.tags": [
     "worksheet-0"
    ]
   },
   "source": [
    "## Interpretation\n",
    "\n",
    "Both call-stacks above go through the functions, \"perf_tp_event\",\n",
    "\"perf_swevent_event\", etc. So, whether it is a tracepoint or a probe,\n",
    "the execution paths converge quickly toward perf_tp_event.\n",
    "\n",
    "Furthermore, the summarized profiling report below (look at the column\n",
    "\"Children\") or the unrolled report above clearly shows that running\n",
    "tracepoint code (the functions tracesys_phase2,\n",
    "syscall_trace_enter_phase2 and perf_trace_sys_enter) takes less 5% of\n",
    "the resources and the serializing code called after perf_tp_event\n",
    "seems more expensive:\n",
    "```\n",
    "Children      Self  Command          Shared Object                Symbol\n",
    "+   55.87%     0.00%  dd               libc-2.23.so                 [.] __libc_start_main\n",
    "+   55.87%     0.00%  dd               dd                           [.] 0x0000000000003b19\n",
    "+   47.20%     0.49%  dd               [kernel.vmlinux]             [k] tracesys_phase2\n",
    "+   38.03%     1.01%  dd               [kernel.vmlinux]             [k] syscall_trace_enter_phase2\n",
    "+   36.92%     3.08%  dd               [kernel.vmlinux]             [k] perf_trace_sys_enter\n",
    "+   31.64%     1.24%  dd               [kernel.vmlinux]             [k] perf_tp_event\n",
    "+   30.43%     0.25%  dd               [kernel.vmlinux]             [k] perf_swevent_event\n",
    "+   30.11%     0.49%  dd               [kernel.vmlinux]             [k] perf_swevent_overflow\n",
    "+   29.64%     0.95%  dd               [kernel.vmlinux]             [k] __perf_event_overflow\n",
    "+   28.77%     0.00%  dd               dd                           [.] 0x0000000000002d32\n",
    "+   28.44%     0.93%  dd               [kernel.vmlinux]             [k] perf_event_output\n",
    "```\n",
    "To conclude, bringing the samples to userspace is the operation which\n",
    "makes tracepoints and probes so expensive."
   ]
  },
  {
   "cell_type": "markdown",
   "metadata": {
    "ein.tags": [
     "worksheet-0"
    ]
   },
   "source": [
    "# Step 2: some basic and practical tests to validate the step 1\n",
    "\n",
    "Let's use the second test environment (*Qemu/KVM guest machine*) so as\n",
    "to quickly disable some parts of the tracepoint serialization code. We\n",
    "will try to skip code execution each time deeper in the call-stack:\n",
    "\n",
    "* Test 1: no tracepoint-related code  disabled;\n",
    "* Test 2: disable the function perf_swevent_event; nothing will be\n",
    "  availble in the ring-buffers; they are not even accessed:\n",
    "```\n",
    "diff --git a/kernel/events/core.c b/kernel/events/core.c\n",
    "...\n",
    "@@ -6554,6 +6562,10 @@ static void perf_swevent_event(struct perf_event *event, u64 nr,\n",
    " {\n",
    " \tstruct hw_perf_event *hwc = &event->hw;\n",
    " \n",
    "+#if 1 /* Test no_perf_swevent_event */\n",
    "+\treturn;\n",
    "+#endif /* Test no_perf_swevent_event */\n",
    "+\t\n",
    " \tlocal64_add(nr, &event->count);\n",
    " \n",
    " \tif (!regs)\n",
    "```\n",
    "* Test 3: (only) disable the function perf_event_output; here, the\n",
    "  event-throttling management code is run but nothing more:\n",
    "```\n",
    "diff --git a/kernel/events/core.c b/kernel/events/core.c\n",
    "...\n",
    "@@ -5603,6 +5607,10 @@ void perf_event_output(struct perf_event *event,\n",
    " \tstruct perf_output_handle handle;\n",
    " \tstruct perf_event_header header;\n",
    " \n",
    "+#if 1 /* Test no_perf_event_output */\n",
    "+\treturn;\n",
    "+#endif /* Test no_perf_event_output */\n",
    "+\t\n",
    " \t/* protect the callchain buffers */\n",
    " \trcu_read_lock();\n",
    "```\n",
    "* Test 4: skip only the writing of the tracepoints into the\n",
    "  ring-buffers (header + \"payload\"):\n",
    "```\n",
    "diff --git a/kernel/events/core.c b/kernel/events/core.c\n",
    "...\n",
    "@@ -5337,6 +5337,10 @@ void perf_output_sample(struct perf_output_handle *handle,\n",
    " {\n",
    " \tu64 sample_type = data->type;\n",
    " \n",
    "+#if 1 /* Test no_perf_output_sample */\n",
    "+\treturn;\n",
    "+#endif /* Test no_perf_output_sample */\n",
    "+\t\n",
    " \tperf_output_put(handle, *header);\n",
    " \n",
    " \tif (sample_type & PERF_SAMPLE_IDENTIFIER)\n",
    "```"
   ]
  },
  {
   "cell_type": "markdown",
   "metadata": {
    "ein.tags": [
     "worksheet-0"
    ]
   },
   "source": [
    "## Results\n",
    "\n",
    "*Test 0: Tracepoint disabled:*\n",
    "```\n",
    "# time dd if=/dev/zero of=/dev/null bs=1 count=3000000\n",
    "3000000+0 records in\n",
    "3000000+0 records out\n",
    "real    0m 0.60s\n",
    "user    0m 0.13s\n",
    "sys     0m 0.46s\n",
    "```\n",
    "\n",
    "*Test 1: Tracepoint raw_syscalls:sys_enter enabled:*\n",
    "```\n",
    "# perf record -e raw_syscalls:sys_enter -- sh -c \"time dd if=/dev/zero of=/dev/n\n",
    "ull bs=1 count=3000000\"\n",
    "3000000+0 records in\n",
    "3000000+0 records out\n",
    "real    0m 2.65s\n",
    "user    0m 0.21s\n",
    "sys     0m 2.43s\n",
    "[ perf record: Woken up 2746 times to write data ]\n",
    "[ perf record: Captured and wrote 698.709 MB perf.data (6000130 samples) ]\n",
    "```\n",
    "\n",
    "*Test 2: function perf_swevent_event skipped:*\n",
    "```\n",
    "# perf record -e raw_syscalls:sys_enter -- sh -c \"time dd if=/dev/zero of=/dev/null bs=1 count=3000000\"\n",
    "3000000+0 records in\n",
    "3000000+0 records out\n",
    "real    0m 1.09s\n",
    "user    0m 0.18s\n",
    "sys     0m 0.91s\n",
    "[ perf record: Woken up 1 times to write data ]\n",
    "[ perf record: Captured and wrote 0.002 MB perf.data ]\n",
    "```\n",
    "\n",
    "*Test 3: function perf_event_output skipped:*\n",
    "```\n",
    "# perf record -e raw_syscalls:sys_enter -- sh -c \"time dd if=/dev/zero of=/dev/null bs=1 count=3000000\"\n",
    "3000000+0 records in\n",
    "3000000+0 records out\n",
    "real    0m 1.16s\n",
    "user    0m 0.17s\n",
    "sys     0m 0.98s\n",
    "[ perf record: Woken up 1 times to write data ]\n",
    "[ perf record: Captured and wrote 0.002 MB perf.data ]\n",
    "```\n",
    "\n",
    "*Test 4: function perf_output_sample skipped:*\n",
    "```\n",
    "# perf record -e raw_syscalls:sys_enter -- sh -c \"time dd if=/dev/zero of=/dev/null bs=1 count=3000000\"\n",
    "3000000+0 records in\n",
    "3000000+0 records out\n",
    "real    0m 1.72s\n",
    "user    0m 0.19s\n",
    "sys     0m 1.53s\n",
    "[ perf record: Woken up 2733 times to write data ]\n",
    "0x170 [0]: failed to process type: 0\n",
    "[ perf record: Captured and wrote 692.559 MB perf.data ]\n",
    "```"
   ]
  },
  {
   "cell_type": "markdown",
   "metadata": {
    "ein.tags": [
     "worksheet-0"
    ]
   },
   "source": [
    "## Pre-requisite import code"
   ]
  },
  {
   "cell_type": "code",
   "execution_count": 8,
   "metadata": {
    "autoscroll": "json-false",
    "collapsed": false,
    "ein.tags": [
     "worksheet-0"
    ]
   },
   "outputs": [],
   "source": [
    "import pandas as pd\n",
    "import matplotlib as mpl\n",
    "\n",
    "%matplotlib inline\n",
    "\n",
    "# Use default pandas plot theme\n",
    "pd.options.display.mpl_style = 'default'\n",
    "\n",
    "# Additional Matplotlib stuff\n",
    "mpl.rcParams['font.size'] = 10\n",
    "mpl.rcParams['savefig.dpi'] = 100\n",
    "mpl.rcParams['figure.subplot.bottom'] = .1"
   ]
  },
  {
   "cell_type": "markdown",
   "metadata": {
    "ein.tags": [
     "worksheet-0"
    ]
   },
   "source": [
    "## Interpretation"
   ]
  },
  {
   "cell_type": "code",
   "execution_count": 9,
   "metadata": {
    "autoscroll": "json-false",
    "collapsed": false,
    "ein.tags": [
     "worksheet-0"
    ]
   },
   "outputs": [
    {
     "data": {
      "image/png": "[encoded data removed]",
      "text/plain": [
       "<matplotlib.figure.Figure at 0x7f2a73fa3c50>"
      ]
     },
     "metadata": {},
     "output_type": "display_data"
    },
    {
     "data": {
      "text/plain": [
       "<matplotlib.text.Text at 0x7f2a73f189d0>"
      ]
     },
     "execution_count": 9,
     "metadata": {},
     "output_type": "execute_result"
    }
   ],
   "source": [
    "# Let's copy the results above into a pandas dataframe...\n",
    "test0 = {'real': 0.60, 'user': 0.13, 'sys': 0.46}\n",
    "test1 = {'real': 2.65, 'user': 0.21, 'sys': 2.43}\n",
    "test2 = {'real': 1.09, 'user': 0.18, 'sys': 0.91}\n",
    "test3 = {'real': 1.16, 'user': 0.17, 'sys': 0.98}\n",
    "test4 = {'real': 1.72, 'user': 0.19, 'sys': 1.53}\n",
    "names = ['no_trace', 'no_perf_swevent_event',\n",
    "      \t 'no_perf_event_output', 'no_perf_output_sample', 'trace']\n",
    "df = pd.DataFrame([test0, test2, test3, test4, test1], index=names)\n",
    "\n",
    "# ...to make a simple bar plot\n",
    "plot = df.plot(kind='bar', figsize=(8, 5))\n",
    "plot.set_ylabel('Execution times (s)')\n",
    "plot.set_title('Execution times comparison')"
   ]
  },
  {
   "cell_type": "markdown",
   "metadata": {
    "ein.tags": [
     "worksheet-0"
    ]
   },
   "source": [
    "The first point to note is not related with tracing: the results of dd\n",
    "in the virtualized environment are really close to those performed in\n",
    "the host environment. The details on the tests on the host environment\n",
    "are available in the first document.\n",
    "\n",
    "The second point is that tracing without forwarding the tracepoint\n",
    "sample (through the ring-buffers) is far less expensive: only 75ns;\n",
    "```\n",
    "(0.91s - 0.46s) / 6000000 = 75ns\n",
    "```\n",
    "\n",
    "Finally, copying the samples into the ring-buffer is the most\n",
    "expensive part; the tests above show that manipulating the ring-buffer\n",
    "and copying data into it are 2 expensive tasks."
   ]
  },
  {
   "cell_type": "markdown",
   "metadata": {
    "ein.tags": [
     "worksheet-0"
    ]
   },
   "source": [
    "# Conclusion\n",
    "\n",
    "The cost of a tracepoint was estimated, in the first document, at\n",
    "350ns; here, we found out such a high value is mostly due to the\n",
    "sample forwarding (into user-space):\n",
    "\n",
    "* The tracepoint code (which fills the struct perf_sample_data) costs\n",
    "  only 75ns;\n",
    "* The sample serialization code (into the ring-buffers) costs 275ns;\n",
    "\n",
    "So it would be interesting to find out whether we can reduce the\n",
    "second and most expensive part; maybe, the cost of using e-bpf is\n",
    "lower than the cost induced by the ring-buffer manipulation."
   ]
  }
 ],
 "metadata": {
  "kernelspec": {
   "display_name": "Python 2",
   "name": "python2"
  },
  "name": "cost_of_tracepoints_and_probes_part3.ipynb"
 },
 "nbformat": 4,
 "nbformat_minor": 0
}

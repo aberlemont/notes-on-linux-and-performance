{
 "cells": [
  {
   "cell_type": "markdown",
   "metadata": {
    "ein.tags": [
     "worksheet-0"
    ]
   },
   "source": [
    "# Introduction\n",
    "\n",
    "TODO"
   ]
  },
  {
   "cell_type": "markdown",
   "metadata": {
    "ein.tags": [
     "worksheet-0"
    ]
   },
   "source": [
    "\n",
    "```\n",
    "perf record -o profiling_raw_syscalls_sys_enter.data -a --call-graph dwarf,4096 -- sleep 10\n",
    "\n",
    "# perf report -i profiling_raw_syscalls_sys_enter.data --stdio\n",
    "...\n",
    "47.20%     0.49%  dd               [kernel.vmlinux]             [k] tracesys_phase2\n",
    "|\n",
    "---tracesys_phase2\n",
    "|\n",
    "|--37.96%--syscall_trace_enter_phase2\n",
    "|          |\n",
    "|          |--36.92%--perf_trace_sys_enter\n",
    "|          |          |\n",
    "|          |          |--31.57%--perf_tp_event\n",
    "|          |          |          |\n",
    "|          |          |          |--30.37%--perf_swevent_event\n",
    "|          |          |          |          |\n",
    "|          |          |          |          |--30.09%--perf_swevent_overflow\n",
    "|          |          |          |          |          |\n",
    "|          |          |          |          |          |--29.56%--__perf_event_overflow\n",
    "|          |          |          |          |          |          |\n",
    "|          |          |          |          |          |          |--28.40%--perf_event_output\n",
    "|          |          |          |          |          |          |          |\n",
    "|          |          |          |          |          |          |          |--15.65%--perf_output_sample\n",
    "|          |          |          |          |          |          |          |          |\n",
    "|          |          |          |          |          |          |          |          |--8.82%--memcpy_erms\n",
    "...\n",
    "```"
   ]
  },
  {
   "cell_type": "markdown",
   "metadata": {
    "ein.tags": [
     "worksheet-0"
    ]
   },
   "source": [
    "```\n",
    "# perf record -o profiling_kprobe_syscalls_read_write.data -a --call-graph dwarf,4096 -- sleep 10\n",
    "\n",
    "# perf report -i profiling_kprobe_syscalls_read_write.data --stdio\n",
    "...\n",
    "50.90%     1.73%  dd               [kernel.vmlinux]             [k] entry_SYSCALL_64_fastpath\n",
    "|\n",
    "---entry_SYSCALL_64_fastpath\n",
    "|\n",
    "|--25.31%--sys_read\n",
    "|          |\n",
    "|          |--19.75%--0x6145\n",
    "|          |          |\n",
    "|          |          |--19.66%--ftrace_ops_recurs_func\n",
    "|          |          |          |\n",
    "|          |          |          |--19.14%--kprobe_ftrace_handler\n",
    "|          |          |          |          |\n",
    "|          |          |          |          |--18.11%--kprobe_dispatcher\n",
    "|          |          |          |          |          |\n",
    "|          |          |          |          |          |--16.96%--kprobe_perf_func\n",
    "|          |          |          |          |          |          |\n",
    "|          |          |          |          |          |          |--15.18%--perf_tp_event\n",
    "|          |          |          |          |          |          |          |\n",
    "|          |          |          |          |          |          |          |--14.56%--perf_swevent_event\n",
    "|          |          |          |          |          |          |          |          |\n",
    "|          |          |          |          |          |          |          |          |--14.44%--perf_swevent_overflow\n",
    "|          |          |          |          |          |          |          |          |          |\n",
    "|          |          |          |          |          |          |          |          |          |--14.19%--__perf_event_overflow\n",
    "|          |          |          |          |          |          |          |          |          |          |\n",
    "|          |          |          |          |          |          |          |          |          |          |--13.64%--perf_event_output\n",
    "|          |          |          |          |          |          |          |          |          |          |          |\n",
    "|          |          |          |          |          |          |          |          |          |          |          |--7.36%--perf_output_sample\n",
    "|          |          |          |          |          |          |          |          |          |          |          |          |\n",
    "|          |          |          |          |          |          |          |          |          |          |          |          |--4.23%--memcpy_erms\n",
    "...\n",
    "```"
   ]
  }
 ],
 "metadata": {
  "kernelspec": {
   "display_name": "Python 2",
   "name": "python2"
  },
  "name": "cost_of_tracepoints_and_probes_part3.ipynb"
 },
 "nbformat": 4,
 "nbformat_minor": 0
}
